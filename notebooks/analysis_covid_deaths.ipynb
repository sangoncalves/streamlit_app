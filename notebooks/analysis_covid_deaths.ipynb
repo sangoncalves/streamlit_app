{
 "metadata": {
  "language_info": {
   "codemirror_mode": {
    "name": "ipython",
    "version": 3
   },
   "file_extension": ".py",
   "mimetype": "text/x-python",
   "name": "python",
   "nbconvert_exporter": "python",
   "pygments_lexer": "ipython3",
   "version": "3.9.2-final"
  },
  "orig_nbformat": 2,
  "kernelspec": {
   "name": "python3",
   "display_name": "Python 3.9.2 64-bit ('venv_streamlit')",
   "metadata": {
    "interpreter": {
     "hash": "485c63b3333208d123eb57fc2de9bb661a72c2bde4247f3c8dd3379eba977332"
    }
   }
  }
 },
 "nbformat": 4,
 "nbformat_minor": 2,
 "cells": [
  {
   "source": [
    "## Libraries"
   ],
   "cell_type": "markdown",
   "metadata": {}
  },
  {
   "cell_type": "code",
   "execution_count": 2,
   "metadata": {},
   "outputs": [],
   "source": [
    "import pandas as pd\n",
    "import seaborn as sns\n",
    "import matplotlib.pyplot as plt\n",
    "\n",
    "#import numpy as np #better performance -> checking missing data\n"
   ]
  },
  {
   "source": [
    "## Remember snip\n"
   ],
   "cell_type": "markdown",
   "metadata": {}
  },
  {
   "source": [
    "### Create the virtual environment\n",
    "python3 -m venv nome_do_ambiente_virtual\n",
    "\n",
    "### Activate the virtual environment:\n",
    "nome_do_ambiente_virtual\\Scripts\\Activate"
   ],
   "cell_type": "markdown",
   "metadata": {}
  },
  {
   "source": [
    "## Loading Data"
   ],
   "cell_type": "markdown",
   "metadata": {}
  },
  {
   "cell_type": "code",
   "execution_count": 9,
   "metadata": {},
   "outputs": [
    {
     "output_type": "stream",
     "name": "stdout",
     "text": [
      "2019 (12445, 6)\n2020 (15024, 6)\n2021 (9705, 6)\n"
     ]
    }
   ],
   "source": [
    "source_obitos_2019 = \"../data/raw/obitos-2019_Período_01012019_até_31122019.csv\"\n",
    "source_obitos_2020 = \"../data/raw/obitos-2020_Período_01012020_até_31122020.csv\"\n",
    "source_obitos_2021 = \"../data/raw/obitos-2021_Período_01012021_até_19032021.csv\"\n",
    "\n",
    "df_2019 = pd.read_csv(source_obitos_2019)\n",
    "df_2020 = pd.read_csv(source_obitos_2020)\n",
    "df_2021 = pd.read_csv(source_obitos_2021)\n",
    "\n",
    "print(f\"2019 {df_2019.shape}\")\n",
    "print(f\"2020 {df_2020.shape}\")\n",
    "print(f\"2021 {df_2021.shape}\")\n",
    "\n"
   ]
  },
  {
   "cell_type": "code",
   "execution_count": 4,
   "metadata": {},
   "outputs": [],
   "source": [
    "#df_2019.sample(5)"
   ]
  },
  {
   "source": [
    "## Asserting"
   ],
   "cell_type": "markdown",
   "metadata": {}
  },
  {
   "cell_type": "code",
   "execution_count": 5,
   "metadata": {},
   "outputs": [],
   "source": [
    "#Asserting that we have all 27 states on our data\n",
    "assert len(df_2019.uf.unique()) == 27, 'There are states missing on our 2019 data!'\n",
    "assert len(df_2020.uf.unique()) == 27, 'There are states missing on our 2020 data!'\n",
    "assert len(df_2021.uf.unique()) == 27, 'There are states missing on our 2021 data!'\n",
    "#Create assert missing data\n",
    "#find a way to check missing values and where they are. df_2019.isna().any().any()"
   ]
  },
  {
   "source": [
    "## Functions"
   ],
   "cell_type": "markdown",
   "metadata": {}
  },
  {
   "cell_type": "code",
   "execution_count": 6,
   "metadata": {},
   "outputs": [],
   "source": [
    "def comparing_graph(causa):\n",
    "\n",
    "    total_deaths_2019 = df_2019.groupby(\"tipo_doenca\").sum()\n",
    "    total_deaths_2020 = df_2020.groupby(\"tipo_doenca\").sum()\n",
    "    total_deaths_2021 = df_2021.groupby(\"tipo_doenca\").sum()\n",
    "\n",
    "    lista = [int(total_deaths_2019.loc[causa]),int(total_deaths_2020.loc[causa])]\n",
    "    data = pd.DataFrame({\"Total\" : lista,\n",
    "                         \"Year\"  : [2019,2020]})\n",
    "    plt.figure(figsize=(8,6))\n",
    "    sns.barplot(x = \"Year\", y = \"Total\", data = data)\n",
    "    plt.title(f\"Deaths by {causa}\")\n",
    "    plt.show()\n",
    "\n",
    "#comparing_graph(\"PNEUMONIA\")"
   ]
  },
  {
   "cell_type": "code",
   "execution_count": 7,
   "metadata": {},
   "outputs": [],
   "source": [
    "def comparing_graph(causa,state):\n",
    "\n",
    "    total_deaths_2019 = df_2019.groupby([\"uf\",\"tipo_doenca\"]).sum()\n",
    "    total_deaths_2020 = df_2020.groupby([\"uf\",\"tipo_doenca\"]).sum()\n",
    "    total_deaths_2021 = df_2021.groupby([\"uf\",\"tipo_doenca\"]).sum()\n",
    "\n",
    "    lista = [int(total_deaths_2019.loc[state,causa]),int(total_deaths_2020.loc[state,causa])]\n",
    "    data = pd.DataFrame({\"Total\" : lista,\n",
    "                         \"Year\"  : [2019,2020]})\n",
    "    plt.figure(figsize=(8,6))\n",
    "    sns.barplot(x = \"Year\", y = \"Total\", data = data)\n",
    "    plt.title(f\"Deaths by {causa}\")\n",
    "    #plt.legend(data.Year)\n",
    "    plt.show()\n",
    "\n",
    "#comparing_graph(causa=\"PNEUMONIA\",state=\"SP\")"
   ]
  },
  {
   "cell_type": "code",
   "execution_count": 34,
   "metadata": {},
   "outputs": [],
   "source": [
    "#for cases where we have a default value, we need to add them as last parameter on our function. correct: (causa,state=\"BRASIL\"). WRONG:(state=\"BRASIL\",causa)\n",
    "def comparing_graph(causa,state=\"BRASIL\"):\n",
    "    if state == \"BRASIL\":\n",
    "        total_deaths_2019 = df_2019.groupby(\"tipo_doenca\").sum()\n",
    "        total_deaths_2020 = df_2020.groupby(\"tipo_doenca\").sum()\n",
    "        total_deaths_2021 = df_2021.groupby(\"tipo_doenca\").sum()\n",
    "        lista = [int(total_deaths_2019.loc[causa]),int(total_deaths_2020.loc[causa])]\n",
    "    else:\n",
    "        total_deaths_2019 = df_2019.groupby([\"uf\",\"tipo_doenca\"]).sum()\n",
    "        total_deaths_2020 = df_2020.groupby([\"uf\",\"tipo_doenca\"]).sum()\n",
    "        total_deaths_2021 = df_2021.groupby([\"uf\",\"tipo_doenca\"]).sum()\n",
    "        lista = [int(total_deaths_2019.loc[state,causa]),int(total_deaths_2020.loc[state,causa])]\n",
    "\n",
    "    data = pd.DataFrame({\"Total\" : lista,\n",
    "                         \"Year\"  : [2019,2020]})\n",
    "    plt.figure(figsize=(8,6))\n",
    "    sns.barplot(x = \"Year\", y = \"Total\", data = data)\n",
    "    plt.title(f\"Deaths by {causa} - {state}\")\n",
    "    #plt.legend(data.Year)\n",
    "    plt.show()\n",
    "\n",
    "#comparing_graph(\"SRAG\",\"SP\")\n",
    "#comparing_graph(\"SRAG\")"
   ]
  },
  {
   "source": [
    "## Data Info"
   ],
   "cell_type": "markdown",
   "metadata": {}
  },
  {
   "cell_type": "code",
   "execution_count": 7,
   "metadata": {},
   "outputs": [],
   "source": [
    "#df_2019.values\n",
    "#df_2019.tipo_doenca.unique()\n",
    "total_deaths_2019 = df_2019.groupby(\"tipo_doenca\").sum()\n",
    "total_deaths_2020 = df_2020.groupby(\"tipo_doenca\").sum()\n",
    "total_deaths_2021 = df_2021.groupby(\"tipo_doenca\").sum()\n",
    "\n",
    "proportion_20x19 = total_deaths_2020/total_deaths_2019\n",
    "proportion_21x20 = total_deaths_2021/total_deaths_2020"
   ]
  },
  {
   "cell_type": "code",
   "execution_count": 8,
   "metadata": {},
   "outputs": [
    {
     "output_type": "execute_result",
     "data": {
      "text/plain": [
       "                                total\n",
       "tipo_doenca                          \n",
       "COVID                             NaN\n",
       "INDETERMINADA                1.398459\n",
       "INSUFICIENCIA_RESPIRATORIA   0.988525\n",
       "OUTRAS                       1.051048\n",
       "PNEUMONIA                    0.807996\n",
       "SEPTICEMIA                   0.932013\n",
       "SRAG                        11.096474"
      ],
      "text/html": "<div>\n<style scoped>\n    .dataframe tbody tr th:only-of-type {\n        vertical-align: middle;\n    }\n\n    .dataframe tbody tr th {\n        vertical-align: top;\n    }\n\n    .dataframe thead th {\n        text-align: right;\n    }\n</style>\n<table border=\"1\" class=\"dataframe\">\n  <thead>\n    <tr style=\"text-align: right;\">\n      <th></th>\n      <th>total</th>\n    </tr>\n    <tr>\n      <th>tipo_doenca</th>\n      <th></th>\n    </tr>\n  </thead>\n  <tbody>\n    <tr>\n      <th>COVID</th>\n      <td>NaN</td>\n    </tr>\n    <tr>\n      <th>INDETERMINADA</th>\n      <td>1.398459</td>\n    </tr>\n    <tr>\n      <th>INSUFICIENCIA_RESPIRATORIA</th>\n      <td>0.988525</td>\n    </tr>\n    <tr>\n      <th>OUTRAS</th>\n      <td>1.051048</td>\n    </tr>\n    <tr>\n      <th>PNEUMONIA</th>\n      <td>0.807996</td>\n    </tr>\n    <tr>\n      <th>SEPTICEMIA</th>\n      <td>0.932013</td>\n    </tr>\n    <tr>\n      <th>SRAG</th>\n      <td>11.096474</td>\n    </tr>\n  </tbody>\n</table>\n</div>"
     },
     "metadata": {},
     "execution_count": 8
    }
   ],
   "source": [
    "proportion_20x19\n",
    "#proportion_21x20\n"
   ]
  },
  {
   "cell_type": "code",
   "execution_count": null,
   "metadata": {},
   "outputs": [],
   "source": []
  },
  {
   "cell_type": "code",
   "execution_count": null,
   "metadata": {},
   "outputs": [],
   "source": []
  },
  {
   "source": [
    "### Challenges\n",
    "Desafio 01 - Acesse o portal da transparência e leia sobre como são feitas as classificações por tipo de óbito e como são obtidos os dados. \n",
    "\n",
    "Desafio 02 - Nesta aula o Thiago quer fazer uma contagem dos números de casos, mas os dados não parecem corretos. Identifique o problema antes de seguir para o próximo vídeo e ajude a corrigir\n",
    "\n",
    "Desafio 03 - Nesta análise trabalhamos apenas com a informação de óbito, agora queremos que você explore as outras informações da base de dados para enriquecer mais sua aplicação final. Veja o que descobre de interessante e compartilhe no Discord\n",
    "\n",
    "Desafio 04 - Que tal deixar a função que criamos para gerar os gráficos ainda melhor, acrescente um filtro para pode selecionar o estado que gostaria de visualizar\n",
    "\n",
    "Desafio 05 - Como você sabe neste curso vamos aprender como criar uma aplicação web para ciência de dados com o Streamlit, que é uma ferramenta de alto nível abstraindo muitas coisas. Entender, mesmo que superficialmente, como uma aplicação-web funciona é interessante para você conhecer o que está acontecendo por baixo dos panos do Streamlit, por isso queremos que você pesquise um pouco sobre como funciona o Web. Neste vídeo o Sérgio Lopes, CTO da Alura faz uma explicação geral de como as coisas acontecem em uma aplicação.\n",
    "\n",
    "Desafio 06 - A função que melhoramos no vídeo 2.3 da para ficar ainda melhor, agora queremos que você acrescente a opção de selecionar apenas o estado e visualizar os totais de óbitos.\n",
    "\n",
    "Desafio 07 - Nesta aula criamos nossa primeira aplicação com o Streamlit e nosso desafio é que você explore a documentação da ferramenta, entre nos códigos fontes (github) dos exemplos, explore os métodos e afins."
   ],
   "cell_type": "markdown",
   "metadata": {}
  },
  {
   "cell_type": "code",
   "execution_count": 9,
   "metadata": {},
   "outputs": [],
   "source": [
    "#NOT WORKING!!!!\n",
    "def comparing_graph(causa=\"empty\",state=\"BRASIL\"):\n",
    "    if (state == \"BRASIL\" and causa != \"empty\"):\n",
    "        total_deaths_2019 = df_2019.groupby([\"uf\",\"tipo_doenca\"]).sum()\n",
    "        total_deaths_2020 = df_2020.groupby([\"uf\",\"tipo_doenca\"]).sum()\n",
    "        total_deaths_2021 = df_2021.groupby([\"uf\",\"tipo_doenca\"]).sum()\n",
    "        lista = [int(total_deaths_2019.loc[causa]),int(total_deaths_2020.loc[causa])]\n",
    "        data = pd.DataFrame({\"Total\" : lista,\n",
    "                             \"Year\"  : [2019,2020]})\n",
    "        plt.figure(figsize=(8,6))\n",
    "        sns.barplot(x = \"tipo_doenca\", y = \"Total\", data = data)\n",
    "\n",
    "    elif (causa==\"empty\" and state == \"BRASIL\"):\n",
    "        total_deaths_2019 = df_2019.groupby((\"tipo_doenca\")).sum()\n",
    "        total_deaths_2020 = df_2020.groupby((\"tipo_doenca\")).sum()\n",
    "        total_deaths_2021 = df_2021.groupby((\"tipo_doenca\")).sum()\n",
    "        y_2019 = df_2019.tipo_doenca.values\n",
    "        y_2020 = df_2020.tipo_doenca.values\n",
    "        lista = [int(total_deaths_2019.query(\"uf = state\")),int(total_deaths_2020.query(\"uf = state\"))]\n",
    "        data = pd.DataFrame({\"Total\" : lista,\n",
    "                             \"Year\"  : [2019,2020]})\n",
    "        plt.figure(figsize=(8,6))\n",
    "        sns.barplot(x = \"Total\", y = [y_2019,y_2020], data = data)\n",
    "\n",
    "    elif (causa==\"empty\" and state != \"BRASIL\"):\n",
    "        total_deaths_2019 = df_2019.groupby([\"uf\",\"tipo_doenca\"]).sum()\n",
    "        total_deaths_2020 = df_2020.groupby([\"uf\",\"tipo_doenca\"]).sum()\n",
    "        total_deaths_2021 = df_2021.groupby([\"uf\",\"tipo_doenca\"]).sum()\n",
    "        y_2019 = df_2019.tipo_doenca.values\n",
    "        y_2020 = df_2020.tipo_doenca.values\n",
    "        lista = [int(total_deaths_2019.query(\"uf = state\")),int(total_deaths_2020.query(\"uf = state\"))]\n",
    "        data = pd.DataFrame({\"Total\" : lista,\n",
    "                             \"Year\"  : [2019,2020]})\n",
    "        plt.figure(figsize=(8,6))\n",
    "        sns.barplot(x = \"Total\", y = [y_2019,y_2020], data = data)\n",
    "\n",
    "    else:\n",
    "        total_deaths_2019 = df_2019.groupby([\"uf\",\"tipo_doenca\"]).sum()\n",
    "        total_deaths_2020 = df_2020.groupby([\"uf\",\"tipo_doenca\"]).sum()\n",
    "        total_deaths_2021 = df_2021.groupby([\"uf\",\"tipo_doenca\"]).sum()\n",
    "        lista = [int(total_deaths_2019.loc[state,causa]),int(total_deaths_2020.loc[state,causa])]\n",
    "\n",
    "        data = pd.DataFrame({\"Total\" : lista,\n",
    "                             \"Year\"  : [2019,2020]})\n",
    "        plt.figure(figsize=(8,6))\n",
    "        sns.barplot(x = \"tipo_doenca\", y = \"Total\", data = data)\n",
    "    #plt.title(f\"Deaths by {causa} - {state}\")\n",
    "    #plt.legend(data.Year)\n",
    "    plt.show()\n",
    "\n",
    "# comparing_graph(\"SRAG\",\"SP\")\n",
    "# comparing_graph()\n",
    "#comparing_graph(state=\"SP\")"
   ]
  },
  {
   "cell_type": "code",
   "execution_count": null,
   "metadata": {},
   "outputs": [],
   "source": [
    "#https://stackoverflow.com/questions/19124601/pretty-print-an-entire-pandas-series-dataframe\n",
    "\n",
    "#df_2019\n",
    "#print(df_2019.to_string()) didn't work\n",
    "\n",
    "#st.text(\"My app!\")"
   ]
  }
 ]
}