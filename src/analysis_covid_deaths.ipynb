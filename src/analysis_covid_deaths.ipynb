{
 "metadata": {
  "language_info": {
   "codemirror_mode": {
    "name": "ipython",
    "version": 3
   },
   "file_extension": ".py",
   "mimetype": "text/x-python",
   "name": "python",
   "nbconvert_exporter": "python",
   "pygments_lexer": "ipython3",
   "version": "3.8.8-final"
  },
  "orig_nbformat": 2,
  "kernelspec": {
   "name": "python3",
   "display_name": "Python 3.8.8 64-bit ('venv_streamlit')",
   "metadata": {
    "interpreter": {
     "hash": "485c63b3333208d123eb57fc2de9bb661a72c2bde4247f3c8dd3379eba977332"
    }
   }
  }
 },
 "nbformat": 4,
 "nbformat_minor": 2,
 "cells": [
  {
   "source": [
    "## Libraries"
   ],
   "cell_type": "markdown",
   "metadata": {}
  },
  {
   "cell_type": "code",
   "execution_count": 33,
   "metadata": {},
   "outputs": [],
   "source": [
    "import pandas as pd\n",
    "import numpy as np #better performance -> checking missing data"
   ]
  },
  {
   "source": [
    "## Remember snip\n"
   ],
   "cell_type": "markdown",
   "metadata": {}
  },
  {
   "source": [
    "### Create the virtual environment\n",
    "python3 -m venv nome_do_ambiente_virtual\n",
    "\n",
    "### Activate the virtual environment:\n",
    "nome_do_ambiente_virtual\\Scripts\\Activate"
   ],
   "cell_type": "markdown",
   "metadata": {}
  },
  {
   "source": [
    "## Loading Data"
   ],
   "cell_type": "markdown",
   "metadata": {}
  },
  {
   "cell_type": "code",
   "execution_count": 34,
   "metadata": {},
   "outputs": [
    {
     "output_type": "stream",
     "name": "stdout",
     "text": [
      "2019 (12445, 6)\n2020 (15024, 6)\n2021 (9705, 6)\n"
     ]
    }
   ],
   "source": [
    "source_obitos_2019 = \"..\\data\\obitos-2019 Período 01012019 até 31122019.csv\"\n",
    "source_obitos_2020 = \"..\\data\\obitos-2020 Período 01012020 até 31122020.csv\"\n",
    "source_obitos_2021 = \"..\\data\\obitos-2021 Período 01012021 até 19032021.csv\"\n",
    "\n",
    "df_2019 = pd.read_csv(source_obitos_2019)\n",
    "df_2020 = pd.read_csv(source_obitos_2020)\n",
    "df_2021 = pd.read_csv(source_obitos_2021)\n",
    "\n",
    "print(f\"2019 {df_2019.shape}\")\n",
    "print(f\"2020 {df_2020.shape}\")\n",
    "print(f\"2021 {df_2021.shape}\")\n",
    "\n"
   ]
  },
  {
   "cell_type": "code",
   "execution_count": 35,
   "metadata": {},
   "outputs": [],
   "source": [
    "#df_2019.sample(5)"
   ]
  },
  {
   "source": [
    "## Asserting"
   ],
   "cell_type": "markdown",
   "metadata": {}
  },
  {
   "cell_type": "code",
   "execution_count": 36,
   "metadata": {},
   "outputs": [],
   "source": [
    "#Asserting that we have all 27 states on our data\n",
    "assert len(df_2019.uf.unique()) == 27, 'There are states missing on our 2019 data!'\n",
    "assert len(df_2020.uf.unique()) == 27, 'There are states missing on our 2020 data!'\n",
    "assert len(df_2021.uf.unique()) == 27, 'There are states missing on our 2021 data!'\n",
    "#Create assert missing data\n",
    "#find a way to check missing values and where they are. df_2019.isna().any().any()"
   ]
  },
  {
   "source": [
    "## Data Info"
   ],
   "cell_type": "markdown",
   "metadata": {}
  },
  {
   "cell_type": "code",
   "execution_count": 55,
   "metadata": {},
   "outputs": [],
   "source": [
    "#df_2019.values\n",
    "#df_2019.tipo_doenca.unique()\n",
    "total_deaths_2019 = df_2019.groupby(\"tipo_doenca\").sum()\n",
    "total_deaths_2020 = df_2020.groupby(\"tipo_doenca\").sum()\n",
    "total_deaths_2021 = df_2021.groupby(\"tipo_doenca\").sum()\n",
    "\n",
    "proportion_20x19 = total_deaths_2020/total_deaths_2019\n",
    "proportion_21x20 = total_deaths_2021/total_deaths_2020"
   ]
  },
  {
   "cell_type": "code",
   "execution_count": 57,
   "metadata": {},
   "outputs": [
    {
     "output_type": "execute_result",
     "data": {
      "text/plain": [
       "                               total\n",
       "tipo_doenca                         \n",
       "COVID                       0.424010\n",
       "INDETERMINADA               0.207470\n",
       "INSUFICIENCIA_RESPIRATORIA  0.176656\n",
       "OUTRAS                      0.188556\n",
       "PNEUMONIA                   0.176643\n",
       "SEPTICEMIA                  0.194411\n",
       "SRAG                        0.184195"
      ],
      "text/html": "<div>\n<style scoped>\n    .dataframe tbody tr th:only-of-type {\n        vertical-align: middle;\n    }\n\n    .dataframe tbody tr th {\n        vertical-align: top;\n    }\n\n    .dataframe thead th {\n        text-align: right;\n    }\n</style>\n<table border=\"1\" class=\"dataframe\">\n  <thead>\n    <tr style=\"text-align: right;\">\n      <th></th>\n      <th>total</th>\n    </tr>\n    <tr>\n      <th>tipo_doenca</th>\n      <th></th>\n    </tr>\n  </thead>\n  <tbody>\n    <tr>\n      <th>COVID</th>\n      <td>0.424010</td>\n    </tr>\n    <tr>\n      <th>INDETERMINADA</th>\n      <td>0.207470</td>\n    </tr>\n    <tr>\n      <th>INSUFICIENCIA_RESPIRATORIA</th>\n      <td>0.176656</td>\n    </tr>\n    <tr>\n      <th>OUTRAS</th>\n      <td>0.188556</td>\n    </tr>\n    <tr>\n      <th>PNEUMONIA</th>\n      <td>0.176643</td>\n    </tr>\n    <tr>\n      <th>SEPTICEMIA</th>\n      <td>0.194411</td>\n    </tr>\n    <tr>\n      <th>SRAG</th>\n      <td>0.184195</td>\n    </tr>\n  </tbody>\n</table>\n</div>"
     },
     "metadata": {},
     "execution_count": 57
    }
   ],
   "source": [
    "proportion_20x19\n",
    "proportion_21x20\n"
   ]
  },
  {
   "cell_type": "code",
   "execution_count": null,
   "metadata": {},
   "outputs": [],
   "source": []
  },
  {
   "cell_type": "code",
   "execution_count": null,
   "metadata": {},
   "outputs": [],
   "source": []
  },
  {
   "cell_type": "code",
   "execution_count": null,
   "metadata": {},
   "outputs": [],
   "source": []
  },
  {
   "source": [
    "### Challenges\n",
    "Desafio 01 - Acesse o portal da transparência e leia sobre como são feitas as classificações por tipo de óbito e como são obtidos os dados. \n",
    "\n",
    "Desafio 02 - Nesta aula o Thiago quer fazer uma contagem dos números de casos, mas os dados não parecem corretos. Identifique o problema antes de seguir para o próximo vídeo e ajude a corrigir"
   ],
   "cell_type": "markdown",
   "metadata": {}
  }
 ]
}